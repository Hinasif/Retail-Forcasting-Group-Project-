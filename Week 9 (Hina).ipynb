{
 "cells": [
  {
   "cell_type": "markdown",
   "id": "01d0007f",
   "metadata": {},
   "source": [
    "# Week 9: Data Cleaning and Transformation "
   ]
  },
  {
   "cell_type": "code",
   "execution_count": 24,
   "id": "9b78d690",
   "metadata": {},
   "outputs": [],
   "source": [
    "#Importing Essential Libraries\n",
    "import pandas as pd\n",
    "import numpy as np\n",
    "import seaborn as sns\n",
    "import matplotlib.pyplot as plt\n",
    "import warnings\n",
    "warnings.filterwarnings('ignore')"
   ]
  },
  {
   "cell_type": "code",
   "execution_count": 2,
   "id": "e9fbe37c",
   "metadata": {},
   "outputs": [
    {
     "data": {
      "text/plain": [
       "(1218, 12)"
      ]
     },
     "execution_count": 2,
     "metadata": {},
     "output_type": "execute_result"
    }
   ],
   "source": [
    "#reading csv file\n",
    "df= pd.read_csv('forecasting_case_study.csv')\n",
    "df.shape"
   ]
  },
  {
   "cell_type": "markdown",
   "id": "732b18ae",
   "metadata": {},
   "source": [
    "# Exploratory Data Analysis"
   ]
  },
  {
   "cell_type": "code",
   "execution_count": 25,
   "id": "e983f093",
   "metadata": {},
   "outputs": [
    {
     "data": {
      "text/html": [
       "<div>\n",
       "<style scoped>\n",
       "    .dataframe tbody tr th:only-of-type {\n",
       "        vertical-align: middle;\n",
       "    }\n",
       "\n",
       "    .dataframe tbody tr th {\n",
       "        vertical-align: top;\n",
       "    }\n",
       "\n",
       "    .dataframe thead th {\n",
       "        text-align: right;\n",
       "    }\n",
       "</style>\n",
       "<table border=\"1\" class=\"dataframe\">\n",
       "  <thead>\n",
       "    <tr style=\"text-align: right;\">\n",
       "      <th></th>\n",
       "      <th>Product</th>\n",
       "      <th>date</th>\n",
       "      <th>Sales</th>\n",
       "      <th>Price Discount</th>\n",
       "      <th>In-Store Promo</th>\n",
       "      <th>Catalogue Promo</th>\n",
       "      <th>Store End Promo</th>\n",
       "      <th>Google_Mobility</th>\n",
       "      <th>Covid_Flag</th>\n",
       "      <th>V_DAY</th>\n",
       "      <th>EASTER</th>\n",
       "      <th>CHRISTMAS</th>\n",
       "    </tr>\n",
       "  </thead>\n",
       "  <tbody>\n",
       "    <tr>\n",
       "      <th>0</th>\n",
       "      <td>SKU1</td>\n",
       "      <td>2/5/2017</td>\n",
       "      <td>27750</td>\n",
       "      <td>0.00</td>\n",
       "      <td>0</td>\n",
       "      <td>0</td>\n",
       "      <td>0</td>\n",
       "      <td>0.0</td>\n",
       "      <td>0</td>\n",
       "      <td>0</td>\n",
       "      <td>0</td>\n",
       "      <td>0</td>\n",
       "    </tr>\n",
       "    <tr>\n",
       "      <th>1</th>\n",
       "      <td>SKU1</td>\n",
       "      <td>2/12/2017</td>\n",
       "      <td>29023</td>\n",
       "      <td>0.00</td>\n",
       "      <td>1</td>\n",
       "      <td>0</td>\n",
       "      <td>1</td>\n",
       "      <td>0.0</td>\n",
       "      <td>0</td>\n",
       "      <td>1</td>\n",
       "      <td>0</td>\n",
       "      <td>0</td>\n",
       "    </tr>\n",
       "    <tr>\n",
       "      <th>2</th>\n",
       "      <td>SKU1</td>\n",
       "      <td>2/19/2017</td>\n",
       "      <td>45630</td>\n",
       "      <td>0.17</td>\n",
       "      <td>0</td>\n",
       "      <td>0</td>\n",
       "      <td>0</td>\n",
       "      <td>0.0</td>\n",
       "      <td>0</td>\n",
       "      <td>0</td>\n",
       "      <td>0</td>\n",
       "      <td>0</td>\n",
       "    </tr>\n",
       "    <tr>\n",
       "      <th>3</th>\n",
       "      <td>SKU1</td>\n",
       "      <td>2/26/2017</td>\n",
       "      <td>26789</td>\n",
       "      <td>0.00</td>\n",
       "      <td>1</td>\n",
       "      <td>0</td>\n",
       "      <td>1</td>\n",
       "      <td>0.0</td>\n",
       "      <td>0</td>\n",
       "      <td>0</td>\n",
       "      <td>0</td>\n",
       "      <td>0</td>\n",
       "    </tr>\n",
       "    <tr>\n",
       "      <th>4</th>\n",
       "      <td>SKU1</td>\n",
       "      <td>3/5/2017</td>\n",
       "      <td>41999</td>\n",
       "      <td>0.17</td>\n",
       "      <td>0</td>\n",
       "      <td>0</td>\n",
       "      <td>0</td>\n",
       "      <td>0.0</td>\n",
       "      <td>0</td>\n",
       "      <td>0</td>\n",
       "      <td>0</td>\n",
       "      <td>0</td>\n",
       "    </tr>\n",
       "  </tbody>\n",
       "</table>\n",
       "</div>"
      ],
      "text/plain": [
       "  Product       date  Sales  Price Discount  In-Store Promo  Catalogue Promo  \\\n",
       "0    SKU1   2/5/2017  27750            0.00               0                0   \n",
       "1    SKU1  2/12/2017  29023            0.00               1                0   \n",
       "2    SKU1  2/19/2017  45630            0.17               0                0   \n",
       "3    SKU1  2/26/2017  26789            0.00               1                0   \n",
       "4    SKU1   3/5/2017  41999            0.17               0                0   \n",
       "\n",
       "   Store End Promo  Google_Mobility  Covid_Flag  V_DAY  EASTER  CHRISTMAS  \n",
       "0                0              0.0           0      0       0          0  \n",
       "1                1              0.0           0      1       0          0  \n",
       "2                0              0.0           0      0       0          0  \n",
       "3                1              0.0           0      0       0          0  \n",
       "4                0              0.0           0      0       0          0  "
      ]
     },
     "execution_count": 25,
     "metadata": {},
     "output_type": "execute_result"
    }
   ],
   "source": [
    "df.head()"
   ]
  },
  {
   "cell_type": "code",
   "execution_count": 26,
   "id": "0315777b",
   "metadata": {},
   "outputs": [
    {
     "data": {
      "text/html": [
       "<div>\n",
       "<style scoped>\n",
       "    .dataframe tbody tr th:only-of-type {\n",
       "        vertical-align: middle;\n",
       "    }\n",
       "\n",
       "    .dataframe tbody tr th {\n",
       "        vertical-align: top;\n",
       "    }\n",
       "\n",
       "    .dataframe thead th {\n",
       "        text-align: right;\n",
       "    }\n",
       "</style>\n",
       "<table border=\"1\" class=\"dataframe\">\n",
       "  <thead>\n",
       "    <tr style=\"text-align: right;\">\n",
       "      <th></th>\n",
       "      <th>Sales</th>\n",
       "      <th>Price Discount</th>\n",
       "      <th>In-Store Promo</th>\n",
       "      <th>Catalogue Promo</th>\n",
       "      <th>Store End Promo</th>\n",
       "      <th>Google_Mobility</th>\n",
       "      <th>Covid_Flag</th>\n",
       "      <th>V_DAY</th>\n",
       "      <th>EASTER</th>\n",
       "      <th>CHRISTMAS</th>\n",
       "    </tr>\n",
       "  </thead>\n",
       "  <tbody>\n",
       "    <tr>\n",
       "      <th>count</th>\n",
       "      <td>1218.000000</td>\n",
       "      <td>1218.000000</td>\n",
       "      <td>1218.000000</td>\n",
       "      <td>1218.000000</td>\n",
       "      <td>1218.000000</td>\n",
       "      <td>1218.000000</td>\n",
       "      <td>1218.000000</td>\n",
       "      <td>1218.000000</td>\n",
       "      <td>1218.000000</td>\n",
       "      <td>1218.000000</td>\n",
       "    </tr>\n",
       "    <tr>\n",
       "      <th>mean</th>\n",
       "      <td>30294.678982</td>\n",
       "      <td>0.251043</td>\n",
       "      <td>0.472085</td>\n",
       "      <td>0.212644</td>\n",
       "      <td>0.348933</td>\n",
       "      <td>-2.377406</td>\n",
       "      <td>0.226601</td>\n",
       "      <td>0.019704</td>\n",
       "      <td>0.019704</td>\n",
       "      <td>0.018883</td>\n",
       "    </tr>\n",
       "    <tr>\n",
       "      <th>std</th>\n",
       "      <td>35032.527297</td>\n",
       "      <td>0.215494</td>\n",
       "      <td>0.499425</td>\n",
       "      <td>0.409346</td>\n",
       "      <td>0.476828</td>\n",
       "      <td>5.806291</td>\n",
       "      <td>0.418804</td>\n",
       "      <td>0.139040</td>\n",
       "      <td>0.139040</td>\n",
       "      <td>0.136169</td>\n",
       "    </tr>\n",
       "    <tr>\n",
       "      <th>min</th>\n",
       "      <td>0.000000</td>\n",
       "      <td>0.000000</td>\n",
       "      <td>0.000000</td>\n",
       "      <td>0.000000</td>\n",
       "      <td>0.000000</td>\n",
       "      <td>-28.490000</td>\n",
       "      <td>0.000000</td>\n",
       "      <td>0.000000</td>\n",
       "      <td>0.000000</td>\n",
       "      <td>0.000000</td>\n",
       "    </tr>\n",
       "    <tr>\n",
       "      <th>25%</th>\n",
       "      <td>7212.750000</td>\n",
       "      <td>0.020000</td>\n",
       "      <td>0.000000</td>\n",
       "      <td>0.000000</td>\n",
       "      <td>0.000000</td>\n",
       "      <td>0.000000</td>\n",
       "      <td>0.000000</td>\n",
       "      <td>0.000000</td>\n",
       "      <td>0.000000</td>\n",
       "      <td>0.000000</td>\n",
       "    </tr>\n",
       "    <tr>\n",
       "      <th>50%</th>\n",
       "      <td>19742.000000</td>\n",
       "      <td>0.250000</td>\n",
       "      <td>0.000000</td>\n",
       "      <td>0.000000</td>\n",
       "      <td>0.000000</td>\n",
       "      <td>0.000000</td>\n",
       "      <td>0.000000</td>\n",
       "      <td>0.000000</td>\n",
       "      <td>0.000000</td>\n",
       "      <td>0.000000</td>\n",
       "    </tr>\n",
       "    <tr>\n",
       "      <th>75%</th>\n",
       "      <td>40282.250000</td>\n",
       "      <td>0.400000</td>\n",
       "      <td>1.000000</td>\n",
       "      <td>0.000000</td>\n",
       "      <td>1.000000</td>\n",
       "      <td>0.000000</td>\n",
       "      <td>0.000000</td>\n",
       "      <td>0.000000</td>\n",
       "      <td>0.000000</td>\n",
       "      <td>0.000000</td>\n",
       "    </tr>\n",
       "    <tr>\n",
       "      <th>max</th>\n",
       "      <td>288322.000000</td>\n",
       "      <td>0.830000</td>\n",
       "      <td>1.000000</td>\n",
       "      <td>1.000000</td>\n",
       "      <td>1.000000</td>\n",
       "      <td>3.900000</td>\n",
       "      <td>1.000000</td>\n",
       "      <td>1.000000</td>\n",
       "      <td>1.000000</td>\n",
       "      <td>1.000000</td>\n",
       "    </tr>\n",
       "  </tbody>\n",
       "</table>\n",
       "</div>"
      ],
      "text/plain": [
       "               Sales  Price Discount  In-Store Promo  Catalogue Promo  \\\n",
       "count    1218.000000     1218.000000     1218.000000      1218.000000   \n",
       "mean    30294.678982        0.251043        0.472085         0.212644   \n",
       "std     35032.527297        0.215494        0.499425         0.409346   \n",
       "min         0.000000        0.000000        0.000000         0.000000   \n",
       "25%      7212.750000        0.020000        0.000000         0.000000   \n",
       "50%     19742.000000        0.250000        0.000000         0.000000   \n",
       "75%     40282.250000        0.400000        1.000000         0.000000   \n",
       "max    288322.000000        0.830000        1.000000         1.000000   \n",
       "\n",
       "       Store End Promo  Google_Mobility   Covid_Flag        V_DAY  \\\n",
       "count      1218.000000      1218.000000  1218.000000  1218.000000   \n",
       "mean          0.348933        -2.377406     0.226601     0.019704   \n",
       "std           0.476828         5.806291     0.418804     0.139040   \n",
       "min           0.000000       -28.490000     0.000000     0.000000   \n",
       "25%           0.000000         0.000000     0.000000     0.000000   \n",
       "50%           0.000000         0.000000     0.000000     0.000000   \n",
       "75%           1.000000         0.000000     0.000000     0.000000   \n",
       "max           1.000000         3.900000     1.000000     1.000000   \n",
       "\n",
       "            EASTER    CHRISTMAS  \n",
       "count  1218.000000  1218.000000  \n",
       "mean      0.019704     0.018883  \n",
       "std       0.139040     0.136169  \n",
       "min       0.000000     0.000000  \n",
       "25%       0.000000     0.000000  \n",
       "50%       0.000000     0.000000  \n",
       "75%       0.000000     0.000000  \n",
       "max       1.000000     1.000000  "
      ]
     },
     "execution_count": 26,
     "metadata": {},
     "output_type": "execute_result"
    }
   ],
   "source": [
    "df.describe()"
   ]
  },
  {
   "cell_type": "code",
   "execution_count": 27,
   "id": "3fcdae09",
   "metadata": {},
   "outputs": [
    {
     "data": {
      "text/plain": [
       "Product             object\n",
       "date                object\n",
       "Sales                int64\n",
       "Price Discount     float64\n",
       "In-Store Promo       int64\n",
       "Catalogue Promo      int64\n",
       "Store End Promo      int64\n",
       "Google_Mobility    float64\n",
       "Covid_Flag           int64\n",
       "V_DAY                int64\n",
       "EASTER               int64\n",
       "CHRISTMAS            int64\n",
       "dtype: object"
      ]
     },
     "execution_count": 27,
     "metadata": {},
     "output_type": "execute_result"
    }
   ],
   "source": [
    "df.dtypes"
   ]
  },
  {
   "cell_type": "code",
   "execution_count": 6,
   "id": "4ae65d93",
   "metadata": {},
   "outputs": [],
   "source": [
    "df.rename(columns={'Price Discount (%)': 'Price Discount'}, inplace=True) #removing % from column name"
   ]
  },
  {
   "cell_type": "code",
   "execution_count": 9,
   "id": "2d3583c0",
   "metadata": {},
   "outputs": [
    {
     "data": {
      "text/plain": [
       "Product            1218\n",
       "date               1218\n",
       "Sales              1218\n",
       "Price Discount     1218\n",
       "In-Store Promo     1218\n",
       "Catalogue Promo    1218\n",
       "Store End Promo    1218\n",
       "Google_Mobility    1218\n",
       "Covid_Flag         1218\n",
       "V_DAY              1218\n",
       "EASTER             1218\n",
       "CHRISTMAS          1218\n",
       "dtype: int64"
      ]
     },
     "execution_count": 9,
     "metadata": {},
     "output_type": "execute_result"
    }
   ],
   "source": [
    "df.count() #value count of each column"
   ]
  },
  {
   "cell_type": "code",
   "execution_count": 28,
   "id": "089e3a68",
   "metadata": {},
   "outputs": [
    {
     "data": {
      "text/html": [
       "<div>\n",
       "<style scoped>\n",
       "    .dataframe tbody tr th:only-of-type {\n",
       "        vertical-align: middle;\n",
       "    }\n",
       "\n",
       "    .dataframe tbody tr th {\n",
       "        vertical-align: top;\n",
       "    }\n",
       "\n",
       "    .dataframe thead th {\n",
       "        text-align: right;\n",
       "    }\n",
       "</style>\n",
       "<table border=\"1\" class=\"dataframe\">\n",
       "  <thead>\n",
       "    <tr style=\"text-align: right;\">\n",
       "      <th></th>\n",
       "      <th>Unique Values</th>\n",
       "    </tr>\n",
       "    <tr>\n",
       "      <th>Variable</th>\n",
       "      <th></th>\n",
       "    </tr>\n",
       "  </thead>\n",
       "  <tbody>\n",
       "    <tr>\n",
       "      <th>Product</th>\n",
       "      <td>6</td>\n",
       "    </tr>\n",
       "    <tr>\n",
       "      <th>date</th>\n",
       "      <td>204</td>\n",
       "    </tr>\n",
       "    <tr>\n",
       "      <th>Sales</th>\n",
       "      <td>1171</td>\n",
       "    </tr>\n",
       "    <tr>\n",
       "      <th>Price Discount</th>\n",
       "      <td>70</td>\n",
       "    </tr>\n",
       "    <tr>\n",
       "      <th>In-Store Promo</th>\n",
       "      <td>2</td>\n",
       "    </tr>\n",
       "    <tr>\n",
       "      <th>Catalogue Promo</th>\n",
       "      <td>2</td>\n",
       "    </tr>\n",
       "    <tr>\n",
       "      <th>Store End Promo</th>\n",
       "      <td>2</td>\n",
       "    </tr>\n",
       "    <tr>\n",
       "      <th>Google_Mobility</th>\n",
       "      <td>48</td>\n",
       "    </tr>\n",
       "    <tr>\n",
       "      <th>Covid_Flag</th>\n",
       "      <td>2</td>\n",
       "    </tr>\n",
       "    <tr>\n",
       "      <th>V_DAY</th>\n",
       "      <td>2</td>\n",
       "    </tr>\n",
       "    <tr>\n",
       "      <th>EASTER</th>\n",
       "      <td>2</td>\n",
       "    </tr>\n",
       "    <tr>\n",
       "      <th>CHRISTMAS</th>\n",
       "      <td>2</td>\n",
       "    </tr>\n",
       "  </tbody>\n",
       "</table>\n",
       "</div>"
      ],
      "text/plain": [
       "                 Unique Values\n",
       "Variable                      \n",
       "Product                      6\n",
       "date                       204\n",
       "Sales                     1171\n",
       "Price Discount              70\n",
       "In-Store Promo               2\n",
       "Catalogue Promo              2\n",
       "Store End Promo              2\n",
       "Google_Mobility             48\n",
       "Covid_Flag                   2\n",
       "V_DAY                        2\n",
       "EASTER                       2\n",
       "CHRISTMAS                    2"
      ]
     },
     "execution_count": 28,
     "metadata": {},
     "output_type": "execute_result"
    }
   ],
   "source": [
    "#Unique values in each column\n",
    "pd.DataFrame([[i, len(df[i].unique())] for i in df.columns],\n",
    "             columns=['Variable','Unique Values']).set_index('Variable')"
   ]
  },
  {
   "cell_type": "code",
   "execution_count": 29,
   "id": "ba76c74d",
   "metadata": {
    "scrolled": false
   },
   "outputs": [
    {
     "data": {
      "text/plain": [
       "<AxesSubplot:>"
      ]
     },
     "execution_count": 29,
     "metadata": {},
     "output_type": "execute_result"
    },
    {
     "data": {
      "image/png": "[encoded data removed]",
      "text/plain": [
       "<Figure size 1800x864 with 2 Axes>"
      ]
     },
     "metadata": {
      "needs_background": "light"
     },
     "output_type": "display_data"
    }
   ],
   "source": [
    "#Correlation between features\n",
    "plt.figure(figsize = (25, 12))\n",
    "sns.heatmap(df.corr(), annot = True, linewidths=.25) "
   ]
  },
  {
   "cell_type": "markdown",
   "id": "b5e3a534",
   "metadata": {},
   "source": [
    "There is not much correlation between features, only 'Covid_Flag' & 'Google_Mobility' have relatively higher correlation."
   ]
  },
  {
   "cell_type": "markdown",
   "id": "b3618928",
   "metadata": {},
   "source": [
    "## Null Values"
   ]
  },
  {
   "cell_type": "code",
   "execution_count": 30,
   "id": "33ee0645",
   "metadata": {},
   "outputs": [
    {
     "data": {
      "text/plain": [
       "Product            0\n",
       "date               0\n",
       "Sales              0\n",
       "Price Discount     0\n",
       "In-Store Promo     0\n",
       "Catalogue Promo    0\n",
       "Store End Promo    0\n",
       "Google_Mobility    0\n",
       "Covid_Flag         0\n",
       "V_DAY              0\n",
       "EASTER             0\n",
       "CHRISTMAS          0\n",
       "dtype: int64"
      ]
     },
     "execution_count": 30,
     "metadata": {},
     "output_type": "execute_result"
    }
   ],
   "source": [
    "Null_values = df.isnull().sum()\n",
    "Null_values"
   ]
  },
  {
   "cell_type": "markdown",
   "id": "03357dab",
   "metadata": {},
   "source": [
    "There is no null values in our dataset."
   ]
  },
  {
   "cell_type": "markdown",
   "id": "110ad11f",
   "metadata": {},
   "source": [
    "## Outliers in numerical columns"
   ]
  },
  {
   "cell_type": "code",
   "execution_count": 31,
   "id": "54314f19",
   "metadata": {},
   "outputs": [],
   "source": [
    "def plot_hist(df, feature):\n",
    "    plt.figure(figsize=(16,4))\n",
    "    #Histogram\n",
    "    plt.subplot(1,2,1)\n",
    "    plt.hist(df[feature], alpha=0.5)\n",
    "    #boxplot\n",
    "    plt.subplot(1,2,2)\n",
    "    sns.boxplot(df[feature])\n",
    "    plt.show"
   ]
  },
  {
   "cell_type": "code",
   "execution_count": 32,
   "id": "10022c02",
   "metadata": {},
   "outputs": [
    {
     "data": {
      "image/png": "[encoded data removed]",
      "text/plain": [
       "<Figure size 1152x288 with 2 Axes>"
      ]
     },
     "metadata": {
      "needs_background": "light"
     },
     "output_type": "display_data"
    }
   ],
   "source": [
    "plot_hist(df,'Sales')"
   ]
  },
  {
   "cell_type": "markdown",
   "id": "13c35b02",
   "metadata": {},
   "source": [
    "The sales column is skewed and have high volume of outliers, One way to deal with outliers is to take log. As presented below:"
   ]
  },
  {
   "cell_type": "code",
   "execution_count": 35,
   "id": "d419d904",
   "metadata": {},
   "outputs": [],
   "source": [
    "df['Sales'] = [np.log(x) for x in df['Sales']]"
   ]
  },
  {
   "cell_type": "code",
   "execution_count": 36,
   "id": "30c2fd80",
   "metadata": {},
   "outputs": [
    {
     "data": {
      "image/png": "[encoded data removed]",
      "text/plain": [
       "<Figure size 432x288 with 1 Axes>"
      ]
     },
     "metadata": {
      "needs_background": "light"
     },
     "output_type": "display_data"
    }
   ],
   "source": [
    "figure=df.boxplot(column='Sales')"
   ]
  },
  {
   "cell_type": "markdown",
   "id": "547d7993",
   "metadata": {},
   "source": [
    "taking log of the values, removed outliers."
   ]
  },
  {
   "cell_type": "code",
   "execution_count": 38,
   "id": "ae8505b6",
   "metadata": {},
   "outputs": [
    {
     "data": {
      "image/png": "[encoded data removed]",
      "text/plain": [
       "<Figure size 1152x288 with 2 Axes>"
      ]
     },
     "metadata": {
      "needs_background": "light"
     },
     "output_type": "display_data"
    }
   ],
   "source": [
    "plot_hist(df,'Price Discount')"
   ]
  },
  {
   "cell_type": "markdown",
   "id": "0ac9e41a",
   "metadata": {},
   "source": [
    "Variable \"price discount\" has no outliers."
   ]
  },
  {
   "cell_type": "code",
   "execution_count": 37,
   "id": "2e4587d4",
   "metadata": {},
   "outputs": [
    {
     "data": {
      "image/png": "[encoded data removed]",
      "text/plain": [
       "<Figure size 1152x288 with 2 Axes>"
      ]
     },
     "metadata": {
      "needs_background": "light"
     },
     "output_type": "display_data"
    }
   ],
   "source": [
    "plot_hist(df,'Google_Mobility')\n",
    "#figure=df.boxplot(column='Google_Mobility')   "
   ]
  },
  {
   "cell_type": "markdown",
   "id": "233811ca",
   "metadata": {},
   "source": [
    "The histogram and boxplot represents mostly unique values in the data, the only similar value is 0. Hence, we can not call them outliers but unique values."
   ]
  },
  {
   "cell_type": "markdown",
   "id": "50655765",
   "metadata": {},
   "source": [
    "The remaining columns are categorical, containing binary data. Hence no outliers present."
   ]
  },
  {
   "cell_type": "code",
   "execution_count": null,
   "id": "9d8eb765",
   "metadata": {},
   "outputs": [],
   "source": []
  }
 ],
 "metadata": {
  "kernelspec": {
   "display_name": "Python 3",
   "language": "python",
   "name": "python3"
  },
  "language_info": {
   "codemirror_mode": {
    "name": "ipython",
    "version": 3
   },
   "file_extension": ".py",
   "mimetype": "text/x-python",
   "name": "python",
   "nbconvert_exporter": "python",
   "pygments_lexer": "ipython3",
   "version": "3.8.8"
  }
 },
 "nbformat": 4,
 "nbformat_minor": 5
}
